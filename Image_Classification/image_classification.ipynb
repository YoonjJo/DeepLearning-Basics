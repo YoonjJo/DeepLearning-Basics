{
 "cells": [
  {
   "cell_type": "markdown",
   "metadata": {
    "collapsed": true
   },
   "source": [
    "# Image Classification\n",
    "In this project, you'll classify images from the [CIFAR-10 dataset](https://www.cs.toronto.edu/~kriz/cifar.html).  The dataset consists of airplanes, dogs, cats, and other objects. You'll preprocess the images, then train a convolutional neural network on all the samples. The images need to be normalized and the labels need to be one-hot encoded.  You'll get to apply what you learned and build a convolutional, max pooling, dropout, and fully connected layers.  At the end, you'll get to see your neural network's predictions on the sample images.\n",
    "## Get the Data\n",
    "Run the following cell to download the [CIFAR-10 dataset for python](https://www.cs.toronto.edu/~kriz/cifar-10-python.tar.gz)."
   ]
  },
  {
   "cell_type": "code",
   "execution_count": 1,
   "metadata": {},
   "outputs": [
    {
     "name": "stdout",
     "output_type": "stream",
     "text": [
      "All files found!\n"
     ]
    }
   ],
   "source": [
    "from urllib.request import urlretrieve\n",
    "from os.path import isfile, isdir\n",
    "from tqdm import tqdm\n",
    "import problem_unittests as tests\n",
    "import tarfile\n",
    "\n",
    "cifar10_dataset_folder_path = 'cifar-10-batches-py'\n",
    "\n",
    "# Use Floyd's cifar-10 dataset if present\n",
    "floyd_cifar10_location = '/input/cifar-10/python.tar.gz'\n",
    "if isfile(floyd_cifar10_location):\n",
    "    tar_gz_path = floyd_cifar10_location\n",
    "else:\n",
    "    tar_gz_path = 'cifar-10-python.tar.gz'\n",
    "\n",
    "class DLProgress(tqdm):\n",
    "    last_block = 0\n",
    "\n",
    "    def hook(self, block_num=1, block_size=1, total_size=None):\n",
    "        self.total = total_size\n",
    "        self.update((block_num - self.last_block) * block_size)\n",
    "        self.last_block = block_num\n",
    "'''\n",
    "if not isfile(tar_gz_path):\n",
    "    with DLProgress(unit='B', unit_scale=True, miniters=1, desc='CIFAR-10 Dataset') as pbar:\n",
    "        urlretrieve(\n",
    "            'https://www.cs.toronto.edu/~kriz/cifar-10-python.tar.gz',\n",
    "            tar_gz_path,\n",
    "            pbar.hook)\n",
    "\n",
    "if not isdir(cifar10_dataset_folder_path):\n",
    "    with tarfile.open(tar_gz_path) as tar:\n",
    "        tar.extractall()\n",
    "        tar.close()\n",
    "'''\n",
    "\n",
    "tests.test_folder_path(cifar10_dataset_folder_path)"
   ]
  },
  {
   "cell_type": "markdown",
   "metadata": {},
   "source": [
    "## Explore the Data\n",
    "The dataset is broken into batches to prevent your machine from running out of memory.  The CIFAR-10 dataset consists of 5 batches, named `data_batch_1`, `data_batch_2`, etc.. Each batch contains the labels and images that are one of the following:\n",
    "* airplane\n",
    "* automobile\n",
    "* bird\n",
    "* cat\n",
    "* deer\n",
    "* dog\n",
    "* frog\n",
    "* horse\n",
    "* ship\n",
    "* truck\n",
    "\n",
    "Understanding a dataset is part of making predictions on the data.  Play around with the code cell below by changing the `batch_id` and `sample_id`. The `batch_id` is the id for a batch (1-5). The `sample_id` is the id for a image and label pair in the batch.\n",
    "\n",
    "Ask yourself \"What are all possible labels?\", \"What is the range of values for the image data?\", \"Are the labels in order or random?\".  Answers to questions like these will help you preprocess the data and end up with better predictions."
   ]
  },
  {
   "cell_type": "code",
   "execution_count": 2,
   "metadata": {},
   "outputs": [
    {
     "name": "stdout",
     "output_type": "stream",
     "text": [
      "\n",
      "Stats of batch 1:\n",
      "Samples: 10000\n",
      "Label Counts: {0: 1005, 1: 974, 2: 1032, 3: 1016, 4: 999, 5: 937, 6: 1030, 7: 1001, 8: 1025, 9: 981}\n",
      "First 20 Labels: [6, 9, 9, 4, 1, 1, 2, 7, 8, 3, 4, 7, 7, 2, 9, 9, 9, 3, 2, 6]\n",
      "\n",
      "Example of Image 5:\n",
      "Image - Min Value: 0 Max Value: 252\n",
      "Image - Shape: (32, 32, 3)\n",
      "Label - Label Id: 1 Name: automobile\n"
     ]
    },
    {
     "data": {
      "image/png": "[encoded data removed]",
      "text/plain": [
       "<matplotlib.figure.Figure at 0x2a0a4324780>"
      ]
     },
     "metadata": {
      "image/png": {
       "height": 250,
       "width": 253
      }
     },
     "output_type": "display_data"
    }
   ],
   "source": [
    "%matplotlib inline\n",
    "%config InlineBackend.figure_format = 'retina'\n",
    "\n",
    "import helper\n",
    "import numpy as np\n",
    "\n",
    "# Explore the dataset\n",
    "batch_id = 1\n",
    "sample_id = 5\n",
    "helper.display_stats(cifar10_dataset_folder_path, batch_id, sample_id)"
   ]
  },
  {
   "cell_type": "markdown",
   "metadata": {},
   "source": [
    "## Implement Preprocess Functions\n",
    "### Normalize\n",
    "In the cell below, implement the `normalize` function to take in image data, `x`, and return it as a normalized Numpy array. The values should be in the range of 0 to 1, inclusive.  The return object should be the same shape as `x`."
   ]
  },
  {
   "cell_type": "code",
   "execution_count": 3,
   "metadata": {},
   "outputs": [
    {
     "name": "stdout",
     "output_type": "stream",
     "text": [
      "Tests Passed\n"
     ]
    }
   ],
   "source": [
    "def normalize(x):\n",
    "    \"\"\"\n",
    "    Normalize a list of sample image data in the range of 0 to 1\n",
    "    : x: List of image data.  The image shape is (32, 32, 3)\n",
    "    : return: Numpy array of normalize data\n",
    "    \"\"\"\n",
    "    # to make the value in the range of 0 to 1,\n",
    "    # divide them of the max value of each pixel value(255)\n",
    "    return np.array(x / 255)\n",
    "\n",
    "tests.test_normalize(normalize)"
   ]
  },
  {
   "cell_type": "markdown",
   "metadata": {},
   "source": [
    "### One-hot encode\n",
    "Just like the previous code cell, you'll be implementing a function for preprocessing.  This time, you'll implement the `one_hot_encode` function. The input, `x`, are a list of labels.  Implement the function to return the list of labels as One-Hot encoded Numpy array.  The possible values for labels are 0 to 9. The one-hot encoding function should return the same encoding for each value between each call to `one_hot_encode`.  Make sure to save the map of encodings outside the function.\n",
    "\n",
    "Hint: Don't reinvent the wheel."
   ]
  },
  {
   "cell_type": "code",
   "execution_count": 4,
   "metadata": {},
   "outputs": [
    {
     "name": "stdout",
     "output_type": "stream",
     "text": [
      "Tests Passed\n"
     ]
    }
   ],
   "source": [
    "def one_hot_encode(x):\n",
    "    \"\"\"\n",
    "    One hot encode a list of sample labels. Return a one-hot encoded vector for each label.\n",
    "    : x: List of sample Labels\n",
    "    : return: Numpy array of one-hot encoded labels\n",
    "    \"\"\"\n",
    "    # cuz the possible values for labels are 0 to 9, num = 10\n",
    "    return np.eye(10)[x]\n",
    "\n",
    "tests.test_one_hot_encode(one_hot_encode)"
   ]
  },
  {
   "cell_type": "markdown",
   "metadata": {},
   "source": [
    "### Randomize Data\n",
    "As you saw from exploring the data above, the order of the samples are randomized.  It doesn't hurt to randomize it again, but you don't need to for this dataset."
   ]
  },
  {
   "cell_type": "markdown",
   "metadata": {},
   "source": [
    "## Preprocess all the data and save it\n",
    "Running the code cell below will preprocess all the CIFAR-10 data and save it to file. The code below also uses 10% of the training data for validation."
   ]
  },
  {
   "cell_type": "code",
   "execution_count": 5,
   "metadata": {
    "collapsed": true
   },
   "outputs": [],
   "source": [
    "# Preprocess Training, Validation, and Testing Data\n",
    "helper.preprocess_and_save_data(cifar10_dataset_folder_path, normalize, one_hot_encode)"
   ]
  },
  {
   "cell_type": "markdown",
   "metadata": {},
   "source": [
    "# Check Point\n",
    "This is your first checkpoint.  If you ever decide to come back to this notebook or have to restart the notebook, you can start from here.  The preprocessed data has been saved to disk."
   ]
  },
  {
   "cell_type": "code",
   "execution_count": 6,
   "metadata": {
    "collapsed": true
   },
   "outputs": [],
   "source": [
    "import pickle\n",
    "import problem_unittests as tests\n",
    "import helper\n",
    "\n",
    "# Load the Preprocessed Validation data\n",
    "valid_features, valid_labels = pickle.load(open('preprocess_validation.p', mode='rb'))"
   ]
  },
  {
   "cell_type": "markdown",
   "metadata": {},
   "source": [
    "## Build the network\n",
    "For the neural network, you'll build each layer into a function.  Most of the code you've seen has been outside of functions. To test your code more thoroughly, we require that you put each layer in a function.  This allows us to give you better feedback and test for simple mistakes using our unittests before you submit your project.\n",
    "\n",
    ">**Note:** If you're finding it hard to dedicate enough time for this course each week, we've provided a small shortcut to this part of the project. In the next couple of problems, you'll have the option to use classes from the [TensorFlow Layers](https://www.tensorflow.org/api_docs/python/tf/layers) or [TensorFlow Layers (contrib)](https://www.tensorflow.org/api_guides/python/contrib.layers) packages to build each layer, except the layers you build in the \"Convolutional and Max Pooling Layer\" section.  TF Layers is similar to Keras's and TFLearn's abstraction to layers, so it's easy to pickup.\n",
    "\n",
    ">However, if you would like to get the most out of this course, try to solve all the problems _without_ using anything from the TF Layers packages. You **can** still use classes from other packages that happen to have the same name as ones you find in TF Layers! For example, instead of using the TF Layers version of the `conv2d` class, [tf.layers.conv2d](https://www.tensorflow.org/api_docs/python/tf/layers/conv2d), you would want to use the TF Neural Network version of `conv2d`, [tf.nn.conv2d](https://www.tensorflow.org/api_docs/python/tf/nn/conv2d). \n",
    "\n",
    "Let's begin!\n",
    "\n",
    "### Input\n",
    "The neural network needs to read the image data, one-hot encoded labels, and dropout keep probability. Implement the following functions\n",
    "* Implement `neural_net_image_input`\n",
    " * Return a [TF Placeholder](https://www.tensorflow.org/api_docs/python/tf/placeholder)\n",
    " * Set the shape using `image_shape` with batch size set to `None`.\n",
    " * Name the TensorFlow placeholder \"x\" using the TensorFlow `name` parameter in the [TF Placeholder](https://www.tensorflow.org/api_docs/python/tf/placeholder).\n",
    "* Implement `neural_net_label_input`\n",
    " * Return a [TF Placeholder](https://www.tensorflow.org/api_docs/python/tf/placeholder)\n",
    " * Set the shape using `n_classes` with batch size set to `None`.\n",
    " * Name the TensorFlow placeholder \"y\" using the TensorFlow `name` parameter in the [TF Placeholder](https://www.tensorflow.org/api_docs/python/tf/placeholder).\n",
    "* Implement `neural_net_keep_prob_input`\n",
    " * Return a [TF Placeholder](https://www.tensorflow.org/api_docs/python/tf/placeholder) for dropout keep probability.\n",
    " * Name the TensorFlow placeholder \"keep_prob\" using the TensorFlow `name` parameter in the [TF Placeholder](https://www.tensorflow.org/api_docs/python/tf/placeholder).\n",
    "\n",
    "These names will be used at the end of the project to load your saved model.\n",
    "\n",
    "Note: `None` for shapes in TensorFlow allow for a dynamic size."
   ]
  },
  {
   "cell_type": "code",
   "execution_count": 7,
   "metadata": {},
   "outputs": [
    {
     "name": "stdout",
     "output_type": "stream",
     "text": [
      "Image Input Tests Passed.\n",
      "Label Input Tests Passed.\n",
      "Keep Prob Tests Passed.\n"
     ]
    }
   ],
   "source": [
    "import tensorflow as tf\n",
    "\n",
    "def neural_net_image_input(image_shape):\n",
    "    \"\"\"\n",
    "    Return a Tensor for a batch of image input\n",
    "    : image_shape: Shape of the images\n",
    "    : return: Tensor for image input.\n",
    "    \"\"\"\n",
    "    return tf.placeholder(tf.float32, [None, image_shape[0], image_shape[1], image_shape[2]], name = 'x')\n",
    "\n",
    "\n",
    "def neural_net_label_input(n_classes):\n",
    "    \"\"\"\n",
    "    Return a Tensor for a batch of label input\n",
    "    : n_classes: Number of classes\n",
    "    : return: Tensor for label input.\n",
    "    \"\"\"\n",
    "    return tf.placeholder(tf.float32, [None, n_classes], name = 'y')\n",
    "\n",
    "\n",
    "def neural_net_keep_prob_input():\n",
    "    \"\"\"\n",
    "    Return a Tensor for keep probability\n",
    "    : return: Tensor for keep probability.\n",
    "    \"\"\"\n",
    "    return tf.placeholder(tf.float32, name = 'keep_prob')\n",
    "\n",
    "tf.reset_default_graph()\n",
    "tests.test_nn_image_inputs(neural_net_image_input)\n",
    "tests.test_nn_label_inputs(neural_net_label_input)\n",
    "tests.test_nn_keep_prob_inputs(neural_net_keep_prob_input)"
   ]
  },
  {
   "cell_type": "markdown",
   "metadata": {},
   "source": [
    "### Convolution and Max Pooling Layer\n",
    "Convolution layers have a lot of success with images. For this code cell, you should implement the function `conv2d_maxpool` to apply convolution then max pooling:\n",
    "* Create the weight and bias using `conv_ksize`, `conv_num_outputs` and the shape of `x_tensor`.\n",
    "* Apply a convolution to `x_tensor` using weight and `conv_strides`.\n",
    " * We recommend you use same padding, but you're welcome to use any padding.\n",
    "* Add bias\n",
    "* Add a nonlinear activation to the convolution.\n",
    "* Apply Max Pooling using `pool_ksize` and `pool_strides`.\n",
    " * We recommend you use same padding, but you're welcome to use any padding.\n",
    "\n",
    "**Note:** You **can't** use [TensorFlow Layers](https://www.tensorflow.org/api_docs/python/tf/layers) or [TensorFlow Layers (contrib)](https://www.tensorflow.org/api_guides/python/contrib.layers) for **this** layer, but you can still use TensorFlow's [Neural Network](https://www.tensorflow.org/api_docs/python/tf/nn) package. You may still use the shortcut option for all the **other** layers."
   ]
  },
  {
   "cell_type": "code",
   "execution_count": 10,
   "metadata": {},
   "outputs": [
    {
     "name": "stdout",
     "output_type": "stream",
     "text": [
      "Tests Passed\n"
     ]
    }
   ],
   "source": [
    "def conv2d_maxpool(x_tensor, conv_num_outputs, conv_ksize, conv_strides, pool_ksize, pool_strides):\n",
    "    \"\"\"\n",
    "    Apply convolution then max pooling to x_tensor\n",
    "    :param x_tensor: TensorFlow Tensor\n",
    "    :param conv_num_outputs: Number of outputs for the convolutional layer\n",
    "    :param conv_ksize: kernal size 2-D Tuple for the convolutional layer\n",
    "    :param conv_strides: Stride 2-D Tuple for convolution\n",
    "    :param pool_ksize: kernal size 2-D Tuple for pool\n",
    "    :param pool_strides: Stride 2-D Tuple for pool\n",
    "    : return: A tensor that represents convolution and max pooling of x_tensor\n",
    "    \"\"\"\n",
    "    # number of color channels\n",
    "    num_inputs = x_tensor.get_shape().as_list()[3]\n",
    "    \n",
    "    # ksize&strides = [batch_size=1, height, width, depth=1]\n",
    "    #ksize = [1, conv_ksize[0], conv_ksize[1], 1]\n",
    "    strides = [1, conv_strides[0], conv_strides[1], 1]\n",
    "    pool_ksize = [1, pool_ksize[0], pool_ksize[1], 1]\n",
    "    pool_strides = [1, pool_strides[0], pool_strides[1], 1]\n",
    "    \n",
    "    # weight = tf.Variable(tf.truncated_normal([filter_size_height, filter_size_width, color_channels, k_output]))\n",
    "    weight = tf.Variable(tf.truncated_normal([conv_ksize[0], conv_ksize[1], num_inputs, conv_num_outputs], stddev = 0.1))\n",
    "    \n",
    "    # bias = tf.Variable(tf.zeros(k_output))\n",
    "    bias = tf.Variable(tf.zeros(conv_num_outputs))\n",
    "    \n",
    "    # conv_layer = tf.nn.conv2d(input, weight, strides, padding='SAME')\n",
    "    conv_layer = tf.nn.conv2d(x_tensor, weight, strides, padding='SAME')\n",
    "    \n",
    "    # Add bias\n",
    "    conv_layer = tf.nn.bias_add(conv_layer, bias)\n",
    "    \n",
    "    # Apply activative function\n",
    "    conv_layer = tf.nn.relu(conv_layer)\n",
    "\n",
    "    return tf.nn.max_pool(conv_layer, ksize=pool_ksize, strides=pool_strides, padding='SAME')\n",
    "\n",
    "tests.test_con_pool(conv2d_maxpool)"
   ]
  },
  {
   "cell_type": "markdown",
   "metadata": {},
   "source": [
    "### Flatten Layer\n",
    "Implement the `flatten` function to change the dimension of `x_tensor` from a 4-D tensor to a 2-D tensor.  The output should be the shape (*Batch Size*, *Flattened Image Size*). Shortcut option: you can use classes from the [TensorFlow Layers](https://www.tensorflow.org/api_docs/python/tf/layers) or [TensorFlow Layers (contrib)](https://www.tensorflow.org/api_guides/python/contrib.layers) packages for this layer. For more of a challenge, only use other TensorFlow packages."
   ]
  },
  {
   "cell_type": "code",
   "execution_count": 11,
   "metadata": {},
   "outputs": [
    {
     "name": "stdout",
     "output_type": "stream",
     "text": [
      "Tests Passed\n"
     ]
    }
   ],
   "source": [
    "def flatten(x_tensor):\n",
    "    \"\"\"\n",
    "    Flatten x_tensor to (Batch Size, Flattened Image Size)\n",
    "    : x_tensor: A tensor of size (Batch Size, ...), where ... are the image dimensions.\n",
    "    : return: A tensor of size (Batch Size, Flattened Image Size).\n",
    "    \"\"\"\n",
    "    x = x_tensor.get_shape().as_list()\n",
    "    # the number of features = height_x * width_x * depth_x\n",
    "    height = x[1]\n",
    "    width = x[2]\n",
    "    depth = x[3]\n",
    "    \n",
    "    return tf.reshape(x_tensor, [-1, height*width*depth])\n",
    "\n",
    "tests.test_flatten(flatten)"
   ]
  },
  {
   "cell_type": "markdown",
   "metadata": {},
   "source": [
    "### Fully-Connected Layer\n",
    "Implement the `fully_conn` function to apply a fully connected layer to `x_tensor` with the shape (*Batch Size*, *num_outputs*). Shortcut option: you can use classes from the [TensorFlow Layers](https://www.tensorflow.org/api_docs/python/tf/layers) or [TensorFlow Layers (contrib)](https://www.tensorflow.org/api_guides/python/contrib.layers) packages for this layer. For more of a challenge, only use other TensorFlow packages."
   ]
  },
  {
   "cell_type": "code",
   "execution_count": 13,
   "metadata": {},
   "outputs": [
    {
     "name": "stdout",
     "output_type": "stream",
     "text": [
      "Tests Passed\n"
     ]
    }
   ],
   "source": [
    "def fully_conn(x_tensor, num_outputs):\n",
    "    \"\"\"\n",
    "    Apply a fully connected layer to x_tensor using weight and bias\n",
    "    : x_tensor: A 2-D tensor where the first dimension is batch size.\n",
    "    : num_outputs: The number of output that the new tensor should be.\n",
    "    : return: A 2-D tensor where the second dimension is num_outputs.\n",
    "    \"\"\"\n",
    "    # [height, width, depth]\n",
    "    width = x_tensor.get_shape().as_list()[1]\n",
    "    weight = tf.Variable(tf.truncated_normal([width, num_outputs], stddev=0.1))\n",
    "    bias = tf.Variable(tf.zeros(num_outputs))\n",
    "    \n",
    "    return tf.nn.relu(tf.add(tf.matmul(x_tensor, weight), bias))\n",
    "\n",
    "tests.test_fully_conn(fully_conn)"
   ]
  },
  {
   "cell_type": "markdown",
   "metadata": {},
   "source": [
    "### Output Layer\n",
    "Implement the `output` function to apply a fully connected layer to `x_tensor` with the shape (*Batch Size*, *num_outputs*). Shortcut option: you can use classes from the [TensorFlow Layers](https://www.tensorflow.org/api_docs/python/tf/layers) or [TensorFlow Layers (contrib)](https://www.tensorflow.org/api_guides/python/contrib.layers) packages for this layer. For more of a challenge, only use other TensorFlow packages.\n",
    "\n",
    "**Note:** Activation, softmax, or cross entropy should **not** be applied to this."
   ]
  },
  {
   "cell_type": "code",
   "execution_count": 15,
   "metadata": {},
   "outputs": [
    {
     "name": "stdout",
     "output_type": "stream",
     "text": [
      "Tests Passed\n"
     ]
    }
   ],
   "source": [
    "def output(x_tensor, num_outputs):\n",
    "    \"\"\"\n",
    "    Apply a output layer to x_tensor using weight and bias\n",
    "    : x_tensor: A 2-D tensor where the first dimension is batch size.\n",
    "    : num_outputs: The number of output that the new tensor should be.\n",
    "    : return: A 2-D tensor where the second dimension is num_outputs.\n",
    "    \"\"\"\n",
    "    # [height, width, depth]\n",
    "    width = x_tensor.get_shape().as_list()[1]\n",
    "    weight = tf.Variable(tf.truncated_normal([width, num_outputs], stddev=0.1))\n",
    "    bias = tf.Variable(tf.zeros(num_outputs))\n",
    "    \n",
    "    return tf.add(tf.matmul(x_tensor, weight), bias)\n",
    "\n",
    "tests.test_output(output)"
   ]
  },
  {
   "cell_type": "markdown",
   "metadata": {},
   "source": [
    "### Create Convolutional Model\n",
    "Implement the function `conv_net` to create a convolutional neural network model. The function takes in a batch of images, `x`, and outputs logits.  Use the layers you created above to create this model:\n",
    "\n",
    "* Apply 1, 2, or 3 Convolution and Max Pool layers\n",
    "* Apply a Flatten Layer\n",
    "* Apply 1, 2, or 3 Fully Connected Layers\n",
    "* Apply an Output Layer\n",
    "* Return the output\n",
    "* Apply [TensorFlow's Dropout](https://www.tensorflow.org/api_docs/python/tf/nn/dropout) to one or more layers in the model using `keep_prob`. "
   ]
  },
  {
   "cell_type": "code",
   "execution_count": 16,
   "metadata": {},
   "outputs": [
    {
     "name": "stdout",
     "output_type": "stream",
     "text": [
      "Neural Network Built!\n"
     ]
    }
   ],
   "source": [
    "def conv_net(x, keep_prob):\n",
    "    \"\"\"\n",
    "    Create a convolutional neural network model\n",
    "    : x: Placeholder tensor that holds image data.\n",
    "    : keep_prob: Placeholder tensor that hold dropout keep probability.\n",
    "    : return: Tensor that represents logits\n",
    "    \"\"\"\n",
    "    #    Play around with different number of outputs, kernel size and stride\n",
    "    # Function Definition from Above:\n",
    "    #    conv2d_maxpool(x_tensor, conv_num_outputs, conv_ksize, conv_strides, pool_ksize, pool_strides)\n",
    "    \n",
    "    # define nums of outputs\n",
    "    num_output = [32, 64, 128]\n",
    "\n",
    "    # define ksizes, strides\n",
    "    conv_ksize = [[3, 3], [3, 3], [3, 3]]\n",
    "    conv_strides = [[1, 1], [1, 1], [1, 1]]\n",
    "    pool_ksize = [[2, 2], [2, 2], [2, 2]]\n",
    "    pool_strides = [[2, 2], [2, 2], [2, 2]]\n",
    "\n",
    "    conv = x\n",
    "    for i in range(0, len(num_output)):\n",
    "        conv = conv2d_maxpool(conv, num_output[i], conv_ksize[i], conv_strides[i], pool_ksize[i], pool_strides[i])\n",
    "\n",
    "    # Function Definition from Above:\n",
    "    #   flatten(x_tensor)\n",
    "    flatten_layer = flatten(conv)\n",
    "    \n",
    "    #    Play around with different number of outputs\n",
    "    # Function Definition from Above:\n",
    "    #   fully_conn(x_tensor, num_outputs)\n",
    "    fully_conn_layer = fully_conn(flatten_layer, 100)\n",
    "    fully_conn_layer = tf.nn.dropout(fully_conn_layer, keep_prob)\n",
    "    \n",
    "    #    Set this to the number of classes\n",
    "    # Function Definition from Above:\n",
    "    #   output(x_tensor, num_outputs)\n",
    "    # TODO: return output\n",
    "    return output(fully_conn_layer, 10)\n",
    "\n",
    "\n",
    "\"\"\"\n",
    "DON'T MODIFY ANYTHING IN THIS CELL THAT IS BELOW THIS LINE\n",
    "\"\"\"\n",
    "\n",
    "##############################\n",
    "## Build the Neural Network ##\n",
    "##############################\n",
    "\n",
    "# Remove previous weights, bias, inputs, etc..\n",
    "tf.reset_default_graph()\n",
    "\n",
    "# Inputs\n",
    "x = neural_net_image_input((32, 32, 3))\n",
    "y = neural_net_label_input(10)\n",
    "keep_prob = neural_net_keep_prob_input()\n",
    "\n",
    "# Model\n",
    "logits = conv_net(x, keep_prob)\n",
    "\n",
    "# Name logits Tensor, so that is can be loaded from disk after training\n",
    "logits = tf.identity(logits, name='logits')\n",
    "\n",
    "# Loss and Optimizer\n",
    "cost = tf.reduce_mean(tf.nn.softmax_cross_entropy_with_logits(logits=logits, labels=y))\n",
    "optimizer = tf.train.AdamOptimizer().minimize(cost)\n",
    "\n",
    "# Accuracy\n",
    "correct_pred = tf.equal(tf.argmax(logits, 1), tf.argmax(y, 1))\n",
    "accuracy = tf.reduce_mean(tf.cast(correct_pred, tf.float32), name='accuracy')\n",
    "\n",
    "tests.test_conv_net(conv_net)"
   ]
  },
  {
   "cell_type": "markdown",
   "metadata": {},
   "source": [
    "## Train the Neural Network\n",
    "### Single Optimization\n",
    "Implement the function `train_neural_network` to do a single optimization.  The optimization should use `optimizer` to optimize in `session` with a `feed_dict` of the following:\n",
    "* `x` for image input\n",
    "* `y` for labels\n",
    "* `keep_prob` for keep probability for dropout\n",
    "\n",
    "This function will be called for each batch, so `tf.global_variables_initializer()` has already been called.\n",
    "\n",
    "Note: Nothing needs to be returned. This function is only optimizing the neural network."
   ]
  },
  {
   "cell_type": "code",
   "execution_count": 17,
   "metadata": {},
   "outputs": [
    {
     "name": "stdout",
     "output_type": "stream",
     "text": [
      "Tests Passed\n"
     ]
    }
   ],
   "source": [
    "def train_neural_network(session, optimizer, keep_probability, feature_batch, label_batch):\n",
    "    \"\"\"\n",
    "    Optimize the session on a batch of images and labels\n",
    "    : session: Current TensorFlow session\n",
    "    : optimizer: TensorFlow optimizer function\n",
    "    : keep_probability: keep probability\n",
    "    : feature_batch: Batch of Numpy image data\n",
    "    : label_batch: Batch of Numpy label data\n",
    "    \"\"\"\n",
    "    # TODO: Implement Function\n",
    "    session.run(optimizer, feed_dict={x: feature_batch, y:label_batch, keep_prob: keep_probability})\n",
    "\n",
    "tests.test_train_nn(train_neural_network)"
   ]
  },
  {
   "cell_type": "markdown",
   "metadata": {},
   "source": [
    "### Show Stats\n",
    "Implement the function `print_stats` to print loss and validation accuracy.  Use the global variables `valid_features` and `valid_labels` to calculate validation accuracy.  Use a keep probability of `1.0` to calculate the loss and validation accuracy."
   ]
  },
  {
   "cell_type": "code",
   "execution_count": 18,
   "metadata": {
    "collapsed": true
   },
   "outputs": [],
   "source": [
    "def print_stats(session, feature_batch, label_batch, cost, accuracy):\n",
    "    \"\"\"\n",
    "    Print information about loss and validation accuracy\n",
    "    : session: Current TensorFlow session\n",
    "    : feature_batch: Batch of Numpy image data\n",
    "    : label_batch: Batch of Numpy label data\n",
    "    : cost: TensorFlow cost function\n",
    "    : accuracy: TensorFlow accuracy function\n",
    "    \"\"\"\n",
    "    # TODO: Implement Function\n",
    "    loss = session.run(cost, feed_dict={x:feature_batch, y:label_batch, keep_prob: 1.0})\n",
    "    accuracy = session.run(accuracy, feed_dict={x: valid_features, y:valid_labels, keep_prob:1.0})\n",
    "\n",
    "    print('Loss={0} ValidationAccuracy={1}'.format(loss, accuracy))"
   ]
  },
  {
   "cell_type": "markdown",
   "metadata": {},
   "source": [
    "### Hyperparameters\n",
    "Tune the following parameters:\n",
    "* Set `epochs` to the number of iterations until the network stops learning or start overfitting\n",
    "* Set `batch_size` to the highest number that your machine has memory for.  Most people set them to common sizes of memory:\n",
    " * 64\n",
    " * 128\n",
    " * 256\n",
    " * ...\n",
    "* Set `keep_probability` to the probability of keeping a node using dropout"
   ]
  },
  {
   "cell_type": "code",
   "execution_count": 19,
   "metadata": {
    "collapsed": true
   },
   "outputs": [],
   "source": [
    "# TODO: Tune Parameters\n",
    "epochs = 50\n",
    "batch_size = 128\n",
    "keep_probability = 0.8"
   ]
  },
  {
   "cell_type": "markdown",
   "metadata": {},
   "source": [
    "### Train on a Single CIFAR-10 Batch\n",
    "Instead of training the neural network on all the CIFAR-10 batches of data, let's use a single batch. This should save time while you iterate on the model to get a better accuracy.  Once the final validation accuracy is 50% or greater, run the model on all the data in the next section."
   ]
  },
  {
   "cell_type": "code",
   "execution_count": 20,
   "metadata": {},
   "outputs": [
    {
     "name": "stdout",
     "output_type": "stream",
     "text": [
      "Checking the Training on a Single Batch...\n",
      "Epoch  1, CIFAR-10 Batch 1:  Loss=1.9004780054092407 ValidationAccuracy=0.3799999952316284\n",
      "Epoch  2, CIFAR-10 Batch 1:  Loss=1.6557337045669556 ValidationAccuracy=0.4453999996185303\n",
      "Epoch  3, CIFAR-10 Batch 1:  Loss=1.421032190322876 ValidationAccuracy=0.492000013589859\n",
      "Epoch  4, CIFAR-10 Batch 1:  Loss=1.2328805923461914 ValidationAccuracy=0.527999997138977\n",
      "Epoch  5, CIFAR-10 Batch 1:  Loss=1.0670115947723389 ValidationAccuracy=0.5396000146865845\n",
      "Epoch  6, CIFAR-10 Batch 1:  Loss=0.9478200674057007 ValidationAccuracy=0.5644000172615051\n",
      "Epoch  7, CIFAR-10 Batch 1:  Loss=0.8210777044296265 ValidationAccuracy=0.5781999826431274\n",
      "Epoch  8, CIFAR-10 Batch 1:  Loss=0.7423523664474487 ValidationAccuracy=0.5821999907493591\n",
      "Epoch  9, CIFAR-10 Batch 1:  Loss=0.6563250422477722 ValidationAccuracy=0.5928000211715698\n",
      "Epoch 10, CIFAR-10 Batch 1:  Loss=0.5840915441513062 ValidationAccuracy=0.5831999778747559\n",
      "Epoch 11, CIFAR-10 Batch 1:  Loss=0.5402832627296448 ValidationAccuracy=0.5911999940872192\n",
      "Epoch 12, CIFAR-10 Batch 1:  Loss=0.43167394399642944 ValidationAccuracy=0.6032000184059143\n",
      "Epoch 13, CIFAR-10 Batch 1:  Loss=0.3826598525047302 ValidationAccuracy=0.6173999905586243\n",
      "Epoch 14, CIFAR-10 Batch 1:  Loss=0.26044797897338867 ValidationAccuracy=0.6244000196456909\n",
      "Epoch 15, CIFAR-10 Batch 1:  Loss=0.19698373973369598 ValidationAccuracy=0.6209999918937683\n",
      "Epoch 16, CIFAR-10 Batch 1:  Loss=0.17645399272441864 ValidationAccuracy=0.6215999722480774\n",
      "Epoch 17, CIFAR-10 Batch 1:  Loss=0.1471768021583557 ValidationAccuracy=0.6164000034332275\n",
      "Epoch 18, CIFAR-10 Batch 1:  Loss=0.1717296540737152 ValidationAccuracy=0.5992000102996826\n",
      "Epoch 19, CIFAR-10 Batch 1:  Loss=0.12899728119373322 ValidationAccuracy=0.623199999332428\n",
      "Epoch 20, CIFAR-10 Batch 1:  Loss=0.10795648396015167 ValidationAccuracy=0.6186000108718872\n",
      "Epoch 21, CIFAR-10 Batch 1:  Loss=0.09784452617168427 ValidationAccuracy=0.6227999925613403\n",
      "Epoch 22, CIFAR-10 Batch 1:  Loss=0.07586368918418884 ValidationAccuracy=0.6055999994277954\n",
      "Epoch 23, CIFAR-10 Batch 1:  Loss=0.0557076558470726 ValidationAccuracy=0.6104000210762024\n",
      "Epoch 24, CIFAR-10 Batch 1:  Loss=0.055887747555971146 ValidationAccuracy=0.6011999845504761\n",
      "Epoch 25, CIFAR-10 Batch 1:  Loss=0.03437986969947815 ValidationAccuracy=0.5953999757766724\n",
      "Epoch 26, CIFAR-10 Batch 1:  Loss=0.035861920565366745 ValidationAccuracy=0.6047999858856201\n",
      "Epoch 27, CIFAR-10 Batch 1:  Loss=0.042557574808597565 ValidationAccuracy=0.6111999750137329\n",
      "Epoch 28, CIFAR-10 Batch 1:  Loss=0.024355782195925713 ValidationAccuracy=0.6033999919891357\n",
      "Epoch 29, CIFAR-10 Batch 1:  Loss=0.016786837950348854 ValidationAccuracy=0.6269999742507935\n",
      "Epoch 30, CIFAR-10 Batch 1:  Loss=0.02167217805981636 ValidationAccuracy=0.6194000244140625\n",
      "Epoch 31, CIFAR-10 Batch 1:  Loss=0.01097576878964901 ValidationAccuracy=0.6190000176429749\n",
      "Epoch 32, CIFAR-10 Batch 1:  Loss=0.008765069767832756 ValidationAccuracy=0.628000020980835\n",
      "Epoch 33, CIFAR-10 Batch 1:  Loss=0.010759790427982807 ValidationAccuracy=0.6151999831199646\n",
      "Epoch 34, CIFAR-10 Batch 1:  Loss=0.01656835339963436 ValidationAccuracy=0.6029999852180481\n",
      "Epoch 35, CIFAR-10 Batch 1:  Loss=0.013349068351089954 ValidationAccuracy=0.6101999878883362\n",
      "Epoch 36, CIFAR-10 Batch 1:  Loss=0.008455159142613411 ValidationAccuracy=0.6007999777793884\n",
      "Epoch 37, CIFAR-10 Batch 1:  Loss=0.018139243125915527 ValidationAccuracy=0.6244000196456909\n",
      "Epoch 38, CIFAR-10 Batch 1:  Loss=0.008837474510073662 ValidationAccuracy=0.6179999709129333\n",
      "Epoch 39, CIFAR-10 Batch 1:  Loss=0.006508869118988514 ValidationAccuracy=0.6137999892234802\n",
      "Epoch 40, CIFAR-10 Batch 1:  Loss=0.00567405391484499 ValidationAccuracy=0.6284000277519226\n",
      "Epoch 41, CIFAR-10 Batch 1:  Loss=0.007578262127935886 ValidationAccuracy=0.607200026512146\n",
      "Epoch 42, CIFAR-10 Batch 1:  Loss=0.002072227420285344 ValidationAccuracy=0.6177999973297119\n",
      "Epoch 43, CIFAR-10 Batch 1:  Loss=0.006972712464630604 ValidationAccuracy=0.6123999953269958\n",
      "Epoch 44, CIFAR-10 Batch 1:  Loss=0.008173097856342793 ValidationAccuracy=0.6129999756813049\n",
      "Epoch 45, CIFAR-10 Batch 1:  Loss=0.0051175975240767 ValidationAccuracy=0.6132000088691711\n",
      "Epoch 46, CIFAR-10 Batch 1:  Loss=0.005454185418784618 ValidationAccuracy=0.6126000285148621\n",
      "Epoch 47, CIFAR-10 Batch 1:  Loss=0.004024714231491089 ValidationAccuracy=0.618399977684021\n",
      "Epoch 48, CIFAR-10 Batch 1:  Loss=0.005081400275230408 ValidationAccuracy=0.6046000123023987\n",
      "Epoch 49, CIFAR-10 Batch 1:  Loss=0.002241444541141391 ValidationAccuracy=0.6083999872207642\n",
      "Epoch 50, CIFAR-10 Batch 1:  Loss=0.003310187254101038 ValidationAccuracy=0.5983999967575073\n"
     ]
    }
   ],
   "source": [
    "print('Checking the Training on a Single Batch...')\n",
    "with tf.Session() as sess:\n",
    "    # Initializing the variables\n",
    "    sess.run(tf.global_variables_initializer())\n",
    "    \n",
    "    # Training cycle\n",
    "    for epoch in range(epochs):\n",
    "        batch_i = 1\n",
    "        for batch_features, batch_labels in helper.load_preprocess_training_batch(batch_i, batch_size):\n",
    "            train_neural_network(sess, optimizer, keep_probability, batch_features, batch_labels)\n",
    "        print('Epoch {:>2}, CIFAR-10 Batch {}:  '.format(epoch + 1, batch_i), end='')\n",
    "        print_stats(sess, batch_features, batch_labels, cost, accuracy)"
   ]
  },
  {
   "cell_type": "markdown",
   "metadata": {},
   "source": [
    "### Fully Train the Model\n",
    "Now that you got a good accuracy with a single CIFAR-10 batch, try it with all five batches."
   ]
  },
  {
   "cell_type": "code",
   "execution_count": 21,
   "metadata": {},
   "outputs": [
    {
     "name": "stdout",
     "output_type": "stream",
     "text": [
      "Training...\n",
      "Epoch  1, CIFAR-10 Batch 1:  Loss=2.0538747310638428 ValidationAccuracy=0.3508000075817108\n",
      "Epoch  1, CIFAR-10 Batch 2:  Loss=1.6610171794891357 ValidationAccuracy=0.42100000381469727\n",
      "Epoch  1, CIFAR-10 Batch 3:  Loss=1.4157772064208984 ValidationAccuracy=0.4275999963283539\n",
      "Epoch  1, CIFAR-10 Batch 4:  Loss=1.4000298976898193 ValidationAccuracy=0.48899999260902405\n",
      "Epoch  1, CIFAR-10 Batch 5:  Loss=1.4031387567520142 ValidationAccuracy=0.5139999985694885\n",
      "Epoch  2, CIFAR-10 Batch 1:  Loss=1.4458869695663452 ValidationAccuracy=0.5260000228881836\n",
      "Epoch  2, CIFAR-10 Batch 2:  Loss=1.1761243343353271 ValidationAccuracy=0.5297999978065491\n",
      "Epoch  2, CIFAR-10 Batch 3:  Loss=1.0180997848510742 ValidationAccuracy=0.5472000241279602\n",
      "Epoch  2, CIFAR-10 Batch 4:  Loss=1.0820361375808716 ValidationAccuracy=0.5910000205039978\n",
      "Epoch  2, CIFAR-10 Batch 5:  Loss=1.1724646091461182 ValidationAccuracy=0.6000000238418579\n",
      "Epoch  3, CIFAR-10 Batch 1:  Loss=1.1457064151763916 ValidationAccuracy=0.5916000008583069\n",
      "Epoch  3, CIFAR-10 Batch 2:  Loss=0.9394720196723938 ValidationAccuracy=0.5943999886512756\n",
      "Epoch  3, CIFAR-10 Batch 3:  Loss=0.8033828735351562 ValidationAccuracy=0.6101999878883362\n",
      "Epoch  3, CIFAR-10 Batch 4:  Loss=0.8540372848510742 ValidationAccuracy=0.6389999985694885\n",
      "Epoch  3, CIFAR-10 Batch 5:  Loss=0.8919622302055359 ValidationAccuracy=0.6313999891281128\n",
      "Epoch  4, CIFAR-10 Batch 1:  Loss=0.9948316812515259 ValidationAccuracy=0.6132000088691711\n",
      "Epoch  4, CIFAR-10 Batch 2:  Loss=0.7343594431877136 ValidationAccuracy=0.6448000073432922\n",
      "Epoch  4, CIFAR-10 Batch 3:  Loss=0.6230894327163696 ValidationAccuracy=0.657800018787384\n",
      "Epoch  4, CIFAR-10 Batch 4:  Loss=0.6524164080619812 ValidationAccuracy=0.6674000024795532\n",
      "Epoch  4, CIFAR-10 Batch 5:  Loss=0.6782952547073364 ValidationAccuracy=0.6567999720573425\n",
      "Epoch  5, CIFAR-10 Batch 1:  Loss=0.8300148248672485 ValidationAccuracy=0.6547999978065491\n",
      "Epoch  5, CIFAR-10 Batch 2:  Loss=0.5354845523834229 ValidationAccuracy=0.6751999855041504\n",
      "Epoch  5, CIFAR-10 Batch 3:  Loss=0.45970553159713745 ValidationAccuracy=0.6794000267982483\n",
      "Epoch  5, CIFAR-10 Batch 4:  Loss=0.5447666049003601 ValidationAccuracy=0.6840000152587891\n",
      "Epoch  5, CIFAR-10 Batch 5:  Loss=0.5451205968856812 ValidationAccuracy=0.6815999746322632\n",
      "Epoch  6, CIFAR-10 Batch 1:  Loss=0.6905206441879272 ValidationAccuracy=0.6556000113487244\n",
      "Epoch  6, CIFAR-10 Batch 2:  Loss=0.5258587598800659 ValidationAccuracy=0.6674000024795532\n",
      "Epoch  6, CIFAR-10 Batch 3:  Loss=0.37517622113227844 ValidationAccuracy=0.704800009727478\n",
      "Epoch  6, CIFAR-10 Batch 4:  Loss=0.4659086763858795 ValidationAccuracy=0.6962000131607056\n",
      "Epoch  6, CIFAR-10 Batch 5:  Loss=0.4024699330329895 ValidationAccuracy=0.701200008392334\n",
      "Epoch  7, CIFAR-10 Batch 1:  Loss=0.6122349500656128 ValidationAccuracy=0.6916000247001648\n",
      "Epoch  7, CIFAR-10 Batch 2:  Loss=0.4032188355922699 ValidationAccuracy=0.6967999935150146\n",
      "Epoch  7, CIFAR-10 Batch 3:  Loss=0.326620489358902 ValidationAccuracy=0.7110000252723694\n",
      "Epoch  7, CIFAR-10 Batch 4:  Loss=0.4284273684024811 ValidationAccuracy=0.7056000232696533\n",
      "Epoch  7, CIFAR-10 Batch 5:  Loss=0.31579867005348206 ValidationAccuracy=0.7143999934196472\n",
      "Epoch  8, CIFAR-10 Batch 1:  Loss=0.5720494985580444 ValidationAccuracy=0.7067999839782715\n",
      "Epoch  8, CIFAR-10 Batch 2:  Loss=0.3003794550895691 ValidationAccuracy=0.7093999981880188\n",
      "Epoch  8, CIFAR-10 Batch 3:  Loss=0.2800452709197998 ValidationAccuracy=0.7031999826431274\n",
      "Epoch  8, CIFAR-10 Batch 4:  Loss=0.37271180748939514 ValidationAccuracy=0.7016000151634216\n",
      "Epoch  8, CIFAR-10 Batch 5:  Loss=0.27859577536582947 ValidationAccuracy=0.7099999785423279\n",
      "Epoch  9, CIFAR-10 Batch 1:  Loss=0.4346361756324768 ValidationAccuracy=0.7092000246047974\n",
      "Epoch  9, CIFAR-10 Batch 2:  Loss=0.2362673282623291 ValidationAccuracy=0.7089999914169312\n",
      "Epoch  9, CIFAR-10 Batch 3:  Loss=0.17401012778282166 ValidationAccuracy=0.717199981212616\n",
      "Epoch  9, CIFAR-10 Batch 4:  Loss=0.34264740347862244 ValidationAccuracy=0.7031999826431274\n",
      "Epoch  9, CIFAR-10 Batch 5:  Loss=0.2934567332267761 ValidationAccuracy=0.6944000124931335\n",
      "Epoch 10, CIFAR-10 Batch 1:  Loss=0.3894786834716797 ValidationAccuracy=0.7197999954223633\n",
      "Epoch 10, CIFAR-10 Batch 2:  Loss=0.17798200249671936 ValidationAccuracy=0.7056000232696533\n",
      "Epoch 10, CIFAR-10 Batch 3:  Loss=0.17775443196296692 ValidationAccuracy=0.7196000218391418\n",
      "Epoch 10, CIFAR-10 Batch 4:  Loss=0.2425631582736969 ValidationAccuracy=0.7125999927520752\n",
      "Epoch 10, CIFAR-10 Batch 5:  Loss=0.1846681833267212 ValidationAccuracy=0.7021999955177307\n",
      "Epoch 11, CIFAR-10 Batch 1:  Loss=0.28969770669937134 ValidationAccuracy=0.7200000286102295\n",
      "Epoch 11, CIFAR-10 Batch 2:  Loss=0.14703123271465302 ValidationAccuracy=0.7089999914169312\n",
      "Epoch 11, CIFAR-10 Batch 3:  Loss=0.1345902383327484 ValidationAccuracy=0.723800003528595\n",
      "Epoch 11, CIFAR-10 Batch 4:  Loss=0.20157399773597717 ValidationAccuracy=0.72079998254776\n",
      "Epoch 11, CIFAR-10 Batch 5:  Loss=0.18165799975395203 ValidationAccuracy=0.7192000150680542\n",
      "Epoch 12, CIFAR-10 Batch 1:  Loss=0.2407277375459671 ValidationAccuracy=0.7125999927520752\n",
      "Epoch 12, CIFAR-10 Batch 2:  Loss=0.1097337007522583 ValidationAccuracy=0.7106000185012817\n",
      "Epoch 12, CIFAR-10 Batch 3:  Loss=0.12954548001289368 ValidationAccuracy=0.7157999873161316\n",
      "Epoch 12, CIFAR-10 Batch 4:  Loss=0.21021604537963867 ValidationAccuracy=0.7121999859809875\n",
      "Epoch 12, CIFAR-10 Batch 5:  Loss=0.11597095429897308 ValidationAccuracy=0.7257999777793884\n",
      "Epoch 13, CIFAR-10 Batch 1:  Loss=0.20332665741443634 ValidationAccuracy=0.72079998254776\n",
      "Epoch 13, CIFAR-10 Batch 2:  Loss=0.07849621772766113 ValidationAccuracy=0.7053999900817871\n",
      "Epoch 13, CIFAR-10 Batch 3:  Loss=0.1136491447687149 ValidationAccuracy=0.7143999934196472\n",
      "Epoch 13, CIFAR-10 Batch 4:  Loss=0.1522204875946045 ValidationAccuracy=0.7233999967575073\n",
      "Epoch 13, CIFAR-10 Batch 5:  Loss=0.10124790668487549 ValidationAccuracy=0.7319999933242798\n",
      "Epoch 14, CIFAR-10 Batch 1:  Loss=0.15478050708770752 ValidationAccuracy=0.7178000211715698\n",
      "Epoch 14, CIFAR-10 Batch 2:  Loss=0.07252936065196991 ValidationAccuracy=0.7146000266075134\n",
      "Epoch 14, CIFAR-10 Batch 3:  Loss=0.11435894668102264 ValidationAccuracy=0.7185999751091003\n",
      "Epoch 14, CIFAR-10 Batch 4:  Loss=0.13167573511600494 ValidationAccuracy=0.7257999777793884\n",
      "Epoch 14, CIFAR-10 Batch 5:  Loss=0.08284151554107666 ValidationAccuracy=0.7232000231742859\n",
      "Epoch 15, CIFAR-10 Batch 1:  Loss=0.15679088234901428 ValidationAccuracy=0.7056000232696533\n",
      "Epoch 15, CIFAR-10 Batch 2:  Loss=0.053654301911592484 ValidationAccuracy=0.7215999960899353\n",
      "Epoch 15, CIFAR-10 Batch 3:  Loss=0.07618378102779388 ValidationAccuracy=0.7289999723434448\n",
      "Epoch 15, CIFAR-10 Batch 4:  Loss=0.13335511088371277 ValidationAccuracy=0.6958000063896179\n",
      "Epoch 15, CIFAR-10 Batch 5:  Loss=0.057308875024318695 ValidationAccuracy=0.723800003528595\n",
      "Epoch 16, CIFAR-10 Batch 1:  Loss=0.1117558479309082 ValidationAccuracy=0.7156000137329102\n",
      "Epoch 16, CIFAR-10 Batch 2:  Loss=0.0557931549847126 ValidationAccuracy=0.7211999893188477\n",
      "Epoch 16, CIFAR-10 Batch 3:  Loss=0.05699736624956131 ValidationAccuracy=0.7350000143051147\n",
      "Epoch 16, CIFAR-10 Batch 4:  Loss=0.11038623750209808 ValidationAccuracy=0.6772000193595886\n",
      "Epoch 16, CIFAR-10 Batch 5:  Loss=0.05269167572259903 ValidationAccuracy=0.7300000190734863\n",
      "Epoch 17, CIFAR-10 Batch 1:  Loss=0.14450745284557343 ValidationAccuracy=0.7211999893188477\n",
      "Epoch 17, CIFAR-10 Batch 2:  Loss=0.030403394252061844 ValidationAccuracy=0.7174000144004822\n",
      "Epoch 17, CIFAR-10 Batch 3:  Loss=0.06791826337575912 ValidationAccuracy=0.7346000075340271\n",
      "Epoch 17, CIFAR-10 Batch 4:  Loss=0.08811701834201813 ValidationAccuracy=0.7027999758720398\n",
      "Epoch 17, CIFAR-10 Batch 5:  Loss=0.05134163051843643 ValidationAccuracy=0.7193999886512756\n",
      "Epoch 18, CIFAR-10 Batch 1:  Loss=0.0860501378774643 ValidationAccuracy=0.7251999974250793\n",
      "Epoch 18, CIFAR-10 Batch 2:  Loss=0.05671468377113342 ValidationAccuracy=0.717199981212616\n",
      "Epoch 18, CIFAR-10 Batch 3:  Loss=0.07276847213506699 ValidationAccuracy=0.7196000218391418\n",
      "Epoch 18, CIFAR-10 Batch 4:  Loss=0.09795285761356354 ValidationAccuracy=0.7003999948501587\n"
     ]
    },
    {
     "name": "stdout",
     "output_type": "stream",
     "text": [
      "Epoch 18, CIFAR-10 Batch 5:  Loss=0.05298244208097458 ValidationAccuracy=0.7235999703407288\n",
      "Epoch 19, CIFAR-10 Batch 1:  Loss=0.1098189577460289 ValidationAccuracy=0.7003999948501587\n",
      "Epoch 19, CIFAR-10 Batch 2:  Loss=0.06308536231517792 ValidationAccuracy=0.7098000049591064\n",
      "Epoch 19, CIFAR-10 Batch 3:  Loss=0.05576571077108383 ValidationAccuracy=0.7131999731063843\n",
      "Epoch 19, CIFAR-10 Batch 4:  Loss=0.06928103417158127 ValidationAccuracy=0.7075999975204468\n",
      "Epoch 19, CIFAR-10 Batch 5:  Loss=0.05533115193247795 ValidationAccuracy=0.7167999744415283\n",
      "Epoch 20, CIFAR-10 Batch 1:  Loss=0.07419302314519882 ValidationAccuracy=0.7138000130653381\n",
      "Epoch 20, CIFAR-10 Batch 2:  Loss=0.039109501987695694 ValidationAccuracy=0.7093999981880188\n",
      "Epoch 20, CIFAR-10 Batch 3:  Loss=0.04013186693191528 ValidationAccuracy=0.7098000049591064\n",
      "Epoch 20, CIFAR-10 Batch 4:  Loss=0.04779847711324692 ValidationAccuracy=0.7135999798774719\n",
      "Epoch 20, CIFAR-10 Batch 5:  Loss=0.03516792133450508 ValidationAccuracy=0.7232000231742859\n",
      "Epoch 21, CIFAR-10 Batch 1:  Loss=0.05998518317937851 ValidationAccuracy=0.7210000157356262\n",
      "Epoch 21, CIFAR-10 Batch 2:  Loss=0.014498439617455006 ValidationAccuracy=0.7117999792098999\n",
      "Epoch 21, CIFAR-10 Batch 3:  Loss=0.030497733503580093 ValidationAccuracy=0.7059999704360962\n",
      "Epoch 21, CIFAR-10 Batch 4:  Loss=0.06122634559869766 ValidationAccuracy=0.7027999758720398\n",
      "Epoch 21, CIFAR-10 Batch 5:  Loss=0.022246943786740303 ValidationAccuracy=0.7264000177383423\n",
      "Epoch 22, CIFAR-10 Batch 1:  Loss=0.039843808859586716 ValidationAccuracy=0.7232000231742859\n",
      "Epoch 22, CIFAR-10 Batch 2:  Loss=0.02265811711549759 ValidationAccuracy=0.7156000137329102\n",
      "Epoch 22, CIFAR-10 Batch 3:  Loss=0.02507670596241951 ValidationAccuracy=0.7020000219345093\n",
      "Epoch 22, CIFAR-10 Batch 4:  Loss=0.04083998128771782 ValidationAccuracy=0.7088000178337097\n",
      "Epoch 22, CIFAR-10 Batch 5:  Loss=0.014194888062775135 ValidationAccuracy=0.7251999974250793\n",
      "Epoch 23, CIFAR-10 Batch 1:  Loss=0.04183918982744217 ValidationAccuracy=0.7211999893188477\n",
      "Epoch 23, CIFAR-10 Batch 2:  Loss=0.01582462154328823 ValidationAccuracy=0.7182000279426575\n",
      "Epoch 23, CIFAR-10 Batch 3:  Loss=0.02630189061164856 ValidationAccuracy=0.7110000252723694\n",
      "Epoch 23, CIFAR-10 Batch 4:  Loss=0.03588024526834488 ValidationAccuracy=0.7080000042915344\n",
      "Epoch 23, CIFAR-10 Batch 5:  Loss=0.023935263976454735 ValidationAccuracy=0.7111999988555908\n",
      "Epoch 24, CIFAR-10 Batch 1:  Loss=0.03201264142990112 ValidationAccuracy=0.7110000252723694\n",
      "Epoch 24, CIFAR-10 Batch 2:  Loss=0.0114706140011549 ValidationAccuracy=0.7200000286102295\n",
      "Epoch 24, CIFAR-10 Batch 3:  Loss=0.03451685979962349 ValidationAccuracy=0.7246000170707703\n",
      "Epoch 24, CIFAR-10 Batch 4:  Loss=0.020705733448266983 ValidationAccuracy=0.7110000252723694\n",
      "Epoch 24, CIFAR-10 Batch 5:  Loss=0.015834344550967216 ValidationAccuracy=0.7088000178337097\n",
      "Epoch 25, CIFAR-10 Batch 1:  Loss=0.032628174871206284 ValidationAccuracy=0.7052000164985657\n",
      "Epoch 25, CIFAR-10 Batch 2:  Loss=0.012763393111526966 ValidationAccuracy=0.7247999906539917\n",
      "Epoch 25, CIFAR-10 Batch 3:  Loss=0.014134499244391918 ValidationAccuracy=0.7235999703407288\n",
      "Epoch 25, CIFAR-10 Batch 4:  Loss=0.03225803002715111 ValidationAccuracy=0.7197999954223633\n",
      "Epoch 25, CIFAR-10 Batch 5:  Loss=0.034957271069288254 ValidationAccuracy=0.7056000232696533\n",
      "Epoch 26, CIFAR-10 Batch 1:  Loss=0.032591767609119415 ValidationAccuracy=0.7008000016212463\n",
      "Epoch 26, CIFAR-10 Batch 2:  Loss=0.016687097027897835 ValidationAccuracy=0.7095999717712402\n",
      "Epoch 26, CIFAR-10 Batch 3:  Loss=0.01730644889175892 ValidationAccuracy=0.7098000049591064\n",
      "Epoch 26, CIFAR-10 Batch 4:  Loss=0.05219893902540207 ValidationAccuracy=0.7099999785423279\n",
      "Epoch 26, CIFAR-10 Batch 5:  Loss=0.008392712101340294 ValidationAccuracy=0.7160000205039978\n",
      "Epoch 27, CIFAR-10 Batch 1:  Loss=0.03479427099227905 ValidationAccuracy=0.7124000191688538\n",
      "Epoch 27, CIFAR-10 Batch 2:  Loss=0.010612307116389275 ValidationAccuracy=0.7021999955177307\n",
      "Epoch 27, CIFAR-10 Batch 3:  Loss=0.030264368280768394 ValidationAccuracy=0.6858000159263611\n",
      "Epoch 27, CIFAR-10 Batch 4:  Loss=0.041786544024944305 ValidationAccuracy=0.7071999907493591\n",
      "Epoch 27, CIFAR-10 Batch 5:  Loss=0.008674342185258865 ValidationAccuracy=0.7250000238418579\n",
      "Epoch 28, CIFAR-10 Batch 1:  Loss=0.07294826209545135 ValidationAccuracy=0.7059999704360962\n",
      "Epoch 28, CIFAR-10 Batch 2:  Loss=0.01831166073679924 ValidationAccuracy=0.7031999826431274\n",
      "Epoch 28, CIFAR-10 Batch 3:  Loss=0.021932782605290413 ValidationAccuracy=0.7265999913215637\n",
      "Epoch 28, CIFAR-10 Batch 4:  Loss=0.030533740296959877 ValidationAccuracy=0.7149999737739563\n",
      "Epoch 28, CIFAR-10 Batch 5:  Loss=0.003876805305480957 ValidationAccuracy=0.7071999907493591\n",
      "Epoch 29, CIFAR-10 Batch 1:  Loss=0.03312745690345764 ValidationAccuracy=0.7016000151634216\n",
      "Epoch 29, CIFAR-10 Batch 2:  Loss=0.005420152097940445 ValidationAccuracy=0.7261999845504761\n",
      "Epoch 29, CIFAR-10 Batch 3:  Loss=0.020032808184623718 ValidationAccuracy=0.7167999744415283\n",
      "Epoch 29, CIFAR-10 Batch 4:  Loss=0.011329172179102898 ValidationAccuracy=0.7242000102996826\n",
      "Epoch 29, CIFAR-10 Batch 5:  Loss=0.005657905712723732 ValidationAccuracy=0.7156000137329102\n",
      "Epoch 30, CIFAR-10 Batch 1:  Loss=0.03220364823937416 ValidationAccuracy=0.7056000232696533\n",
      "Epoch 30, CIFAR-10 Batch 2:  Loss=0.005516687873750925 ValidationAccuracy=0.7250000238418579\n",
      "Epoch 30, CIFAR-10 Batch 3:  Loss=0.01086312998086214 ValidationAccuracy=0.7099999785423279\n",
      "Epoch 30, CIFAR-10 Batch 4:  Loss=0.01411205530166626 ValidationAccuracy=0.7332000136375427\n",
      "Epoch 30, CIFAR-10 Batch 5:  Loss=0.005214856006205082 ValidationAccuracy=0.704200029373169\n",
      "Epoch 31, CIFAR-10 Batch 1:  Loss=0.026605550199747086 ValidationAccuracy=0.7206000089645386\n",
      "Epoch 31, CIFAR-10 Batch 2:  Loss=0.00484830467030406 ValidationAccuracy=0.7221999764442444\n",
      "Epoch 31, CIFAR-10 Batch 3:  Loss=0.006526149809360504 ValidationAccuracy=0.7271999716758728\n",
      "Epoch 31, CIFAR-10 Batch 4:  Loss=0.008371500298380852 ValidationAccuracy=0.7269999980926514\n",
      "Epoch 31, CIFAR-10 Batch 5:  Loss=0.007861117832362652 ValidationAccuracy=0.7146000266075134\n",
      "Epoch 32, CIFAR-10 Batch 1:  Loss=0.024953242391347885 ValidationAccuracy=0.7174000144004822\n",
      "Epoch 32, CIFAR-10 Batch 2:  Loss=0.005108867771923542 ValidationAccuracy=0.7174000144004822\n",
      "Epoch 32, CIFAR-10 Batch 3:  Loss=0.005241772159934044 ValidationAccuracy=0.7257999777793884\n",
      "Epoch 32, CIFAR-10 Batch 4:  Loss=0.0064829252660274506 ValidationAccuracy=0.729200005531311\n",
      "Epoch 32, CIFAR-10 Batch 5:  Loss=0.00860501267015934 ValidationAccuracy=0.7074000239372253\n",
      "Epoch 33, CIFAR-10 Batch 1:  Loss=0.025765638798475266 ValidationAccuracy=0.724399983882904\n",
      "Epoch 33, CIFAR-10 Batch 2:  Loss=0.025882000103592873 ValidationAccuracy=0.7017999887466431\n",
      "Epoch 33, CIFAR-10 Batch 3:  Loss=0.008866474963724613 ValidationAccuracy=0.7342000007629395\n",
      "Epoch 33, CIFAR-10 Batch 4:  Loss=0.007883571088314056 ValidationAccuracy=0.724399983882904\n",
      "Epoch 33, CIFAR-10 Batch 5:  Loss=0.005142088048160076 ValidationAccuracy=0.724399983882904\n",
      "Epoch 34, CIFAR-10 Batch 1:  Loss=0.010612035170197487 ValidationAccuracy=0.7247999906539917\n",
      "Epoch 34, CIFAR-10 Batch 2:  Loss=0.001386367017403245 ValidationAccuracy=0.7148000001907349\n",
      "Epoch 34, CIFAR-10 Batch 3:  Loss=0.007017719093710184 ValidationAccuracy=0.7287999987602234\n",
      "Epoch 34, CIFAR-10 Batch 4:  Loss=0.010495227761566639 ValidationAccuracy=0.7232000231742859\n",
      "Epoch 34, CIFAR-10 Batch 5:  Loss=0.0022993492893874645 ValidationAccuracy=0.7197999954223633\n",
      "Epoch 35, CIFAR-10 Batch 1:  Loss=0.014580333605408669 ValidationAccuracy=0.718999981880188\n",
      "Epoch 35, CIFAR-10 Batch 2:  Loss=0.0014138998230919242 ValidationAccuracy=0.7170000076293945\n",
      "Epoch 35, CIFAR-10 Batch 3:  Loss=0.007498123683035374 ValidationAccuracy=0.7351999878883362\n",
      "Epoch 35, CIFAR-10 Batch 4:  Loss=0.0032755620777606964 ValidationAccuracy=0.7196000218391418\n",
      "Epoch 35, CIFAR-10 Batch 5:  Loss=0.0024136670399457216 ValidationAccuracy=0.722000002861023\n",
      "Epoch 36, CIFAR-10 Batch 1:  Loss=0.014423388056457043 ValidationAccuracy=0.7221999764442444\n",
      "Epoch 36, CIFAR-10 Batch 2:  Loss=0.002243252471089363 ValidationAccuracy=0.7057999968528748\n"
     ]
    },
    {
     "name": "stdout",
     "output_type": "stream",
     "text": [
      "Epoch 36, CIFAR-10 Batch 3:  Loss=0.003094242885708809 ValidationAccuracy=0.7307999730110168\n",
      "Epoch 36, CIFAR-10 Batch 4:  Loss=0.0021474077366292477 ValidationAccuracy=0.7251999974250793\n",
      "Epoch 36, CIFAR-10 Batch 5:  Loss=0.0020500794053077698 ValidationAccuracy=0.7196000218391418\n",
      "Epoch 37, CIFAR-10 Batch 1:  Loss=0.009949875995516777 ValidationAccuracy=0.7211999893188477\n",
      "Epoch 37, CIFAR-10 Batch 2:  Loss=0.0024851742200553417 ValidationAccuracy=0.7135999798774719\n",
      "Epoch 37, CIFAR-10 Batch 3:  Loss=0.0017555014928802848 ValidationAccuracy=0.7265999913215637\n",
      "Epoch 37, CIFAR-10 Batch 4:  Loss=0.0050191814079880714 ValidationAccuracy=0.7224000096321106\n",
      "Epoch 37, CIFAR-10 Batch 5:  Loss=0.0025165367405861616 ValidationAccuracy=0.7232000231742859\n",
      "Epoch 38, CIFAR-10 Batch 1:  Loss=0.01987139880657196 ValidationAccuracy=0.7170000076293945\n",
      "Epoch 38, CIFAR-10 Batch 2:  Loss=0.009260784834623337 ValidationAccuracy=0.7039999961853027\n",
      "Epoch 38, CIFAR-10 Batch 3:  Loss=0.004895652644336224 ValidationAccuracy=0.7271999716758728\n",
      "Epoch 38, CIFAR-10 Batch 4:  Loss=0.005357121583074331 ValidationAccuracy=0.7351999878883362\n",
      "Epoch 38, CIFAR-10 Batch 5:  Loss=0.0032698195427656174 ValidationAccuracy=0.722000002861023\n",
      "Epoch 39, CIFAR-10 Batch 1:  Loss=0.012636803090572357 ValidationAccuracy=0.7160000205039978\n",
      "Epoch 39, CIFAR-10 Batch 2:  Loss=0.0007063221419230103 ValidationAccuracy=0.7167999744415283\n",
      "Epoch 39, CIFAR-10 Batch 3:  Loss=0.005027309060096741 ValidationAccuracy=0.729200005531311\n",
      "Epoch 39, CIFAR-10 Batch 4:  Loss=0.0023817659821361303 ValidationAccuracy=0.7279999852180481\n",
      "Epoch 39, CIFAR-10 Batch 5:  Loss=0.0018231971189379692 ValidationAccuracy=0.7192000150680542\n",
      "Epoch 40, CIFAR-10 Batch 1:  Loss=0.011718709953129292 ValidationAccuracy=0.7152000069618225\n",
      "Epoch 40, CIFAR-10 Batch 2:  Loss=0.0024677494075149298 ValidationAccuracy=0.7116000056266785\n",
      "Epoch 40, CIFAR-10 Batch 3:  Loss=0.0013387553626671433 ValidationAccuracy=0.7332000136375427\n",
      "Epoch 40, CIFAR-10 Batch 4:  Loss=0.002380477264523506 ValidationAccuracy=0.7233999967575073\n",
      "Epoch 40, CIFAR-10 Batch 5:  Loss=0.011481041088700294 ValidationAccuracy=0.7193999886512756\n",
      "Epoch 41, CIFAR-10 Batch 1:  Loss=0.004763818345963955 ValidationAccuracy=0.7224000096321106\n",
      "Epoch 41, CIFAR-10 Batch 2:  Loss=0.001456701080314815 ValidationAccuracy=0.7188000082969666\n",
      "Epoch 41, CIFAR-10 Batch 3:  Loss=0.003963725175708532 ValidationAccuracy=0.725600004196167\n",
      "Epoch 41, CIFAR-10 Batch 4:  Loss=0.005411391146481037 ValidationAccuracy=0.7188000082969666\n",
      "Epoch 41, CIFAR-10 Batch 5:  Loss=0.002173412125557661 ValidationAccuracy=0.7214000225067139\n",
      "Epoch 42, CIFAR-10 Batch 1:  Loss=0.014980718493461609 ValidationAccuracy=0.7164000272750854\n",
      "Epoch 42, CIFAR-10 Batch 2:  Loss=0.002204787451773882 ValidationAccuracy=0.7210000157356262\n",
      "Epoch 42, CIFAR-10 Batch 3:  Loss=0.0031824049074202776 ValidationAccuracy=0.724399983882904\n",
      "Epoch 42, CIFAR-10 Batch 4:  Loss=0.005396819673478603 ValidationAccuracy=0.7300000190734863\n",
      "Epoch 42, CIFAR-10 Batch 5:  Loss=0.005760910455137491 ValidationAccuracy=0.7264000177383423\n",
      "Epoch 43, CIFAR-10 Batch 1:  Loss=0.008012667298316956 ValidationAccuracy=0.7152000069618225\n",
      "Epoch 43, CIFAR-10 Batch 2:  Loss=0.0010125762782990932 ValidationAccuracy=0.7170000076293945\n",
      "Epoch 43, CIFAR-10 Batch 3:  Loss=0.0034309576731175184 ValidationAccuracy=0.7336000204086304\n",
      "Epoch 43, CIFAR-10 Batch 4:  Loss=0.0008585760369896889 ValidationAccuracy=0.72079998254776\n",
      "Epoch 43, CIFAR-10 Batch 5:  Loss=0.0009399357950314879 ValidationAccuracy=0.7232000231742859\n",
      "Epoch 44, CIFAR-10 Batch 1:  Loss=0.00456902664154768 ValidationAccuracy=0.7224000096321106\n",
      "Epoch 44, CIFAR-10 Batch 2:  Loss=0.0009484837646596134 ValidationAccuracy=0.7279999852180481\n",
      "Epoch 44, CIFAR-10 Batch 3:  Loss=0.002785430522635579 ValidationAccuracy=0.7265999913215637\n",
      "Epoch 44, CIFAR-10 Batch 4:  Loss=0.0016230747569352388 ValidationAccuracy=0.7260000109672546\n",
      "Epoch 44, CIFAR-10 Batch 5:  Loss=0.0008400758961215615 ValidationAccuracy=0.7228000164031982\n",
      "Epoch 45, CIFAR-10 Batch 1:  Loss=0.004318234510719776 ValidationAccuracy=0.7296000123023987\n",
      "Epoch 45, CIFAR-10 Batch 2:  Loss=0.00027112619136460125 ValidationAccuracy=0.7156000137329102\n",
      "Epoch 45, CIFAR-10 Batch 3:  Loss=0.0014548784820362926 ValidationAccuracy=0.7310000061988831\n",
      "Epoch 45, CIFAR-10 Batch 4:  Loss=0.003514761570841074 ValidationAccuracy=0.7197999954223633\n",
      "Epoch 45, CIFAR-10 Batch 5:  Loss=0.001311528729274869 ValidationAccuracy=0.7310000061988831\n",
      "Epoch 46, CIFAR-10 Batch 1:  Loss=0.005475493613630533 ValidationAccuracy=0.7343999743461609\n",
      "Epoch 46, CIFAR-10 Batch 2:  Loss=0.0009819453116506338 ValidationAccuracy=0.7210000157356262\n",
      "Epoch 46, CIFAR-10 Batch 3:  Loss=0.0027511578518897295 ValidationAccuracy=0.7275999784469604\n",
      "Epoch 46, CIFAR-10 Batch 4:  Loss=0.0015673765446990728 ValidationAccuracy=0.7221999764442444\n",
      "Epoch 46, CIFAR-10 Batch 5:  Loss=0.00034004979534074664 ValidationAccuracy=0.725600004196167\n",
      "Epoch 47, CIFAR-10 Batch 1:  Loss=0.012532885186374187 ValidationAccuracy=0.7265999913215637\n",
      "Epoch 47, CIFAR-10 Batch 2:  Loss=0.0011293498100712895 ValidationAccuracy=0.722599983215332\n",
      "Epoch 47, CIFAR-10 Batch 3:  Loss=0.00917449127882719 ValidationAccuracy=0.7182000279426575\n",
      "Epoch 47, CIFAR-10 Batch 4:  Loss=0.009456371888518333 ValidationAccuracy=0.7170000076293945\n",
      "Epoch 47, CIFAR-10 Batch 5:  Loss=0.0007873618742451072 ValidationAccuracy=0.7283999919891357\n",
      "Epoch 48, CIFAR-10 Batch 1:  Loss=0.01173682976514101 ValidationAccuracy=0.7242000102996826\n",
      "Epoch 48, CIFAR-10 Batch 2:  Loss=0.0013756357366219163 ValidationAccuracy=0.7257999777793884\n",
      "Epoch 48, CIFAR-10 Batch 3:  Loss=0.008087021298706532 ValidationAccuracy=0.7279999852180481\n",
      "Epoch 48, CIFAR-10 Batch 4:  Loss=0.0017855089390650392 ValidationAccuracy=0.7261999845504761\n",
      "Epoch 48, CIFAR-10 Batch 5:  Loss=0.0062202573753893375 ValidationAccuracy=0.7268000245094299\n",
      "Epoch 49, CIFAR-10 Batch 1:  Loss=0.0023373954463750124 ValidationAccuracy=0.7293999791145325\n",
      "Epoch 49, CIFAR-10 Batch 2:  Loss=0.0010733080562204123 ValidationAccuracy=0.7102000117301941\n",
      "Epoch 49, CIFAR-10 Batch 3:  Loss=0.0011800734791904688 ValidationAccuracy=0.7260000109672546\n",
      "Epoch 49, CIFAR-10 Batch 4:  Loss=0.0033321212977170944 ValidationAccuracy=0.7143999934196472\n",
      "Epoch 49, CIFAR-10 Batch 5:  Loss=0.00781969539821148 ValidationAccuracy=0.722000002861023\n",
      "Epoch 50, CIFAR-10 Batch 1:  Loss=0.00782128144055605 ValidationAccuracy=0.7279999852180481\n",
      "Epoch 50, CIFAR-10 Batch 2:  Loss=0.0009746936848387122 ValidationAccuracy=0.7034000158309937\n",
      "Epoch 50, CIFAR-10 Batch 3:  Loss=0.0025259803514927626 ValidationAccuracy=0.7221999764442444\n",
      "Epoch 50, CIFAR-10 Batch 4:  Loss=0.005996163468807936 ValidationAccuracy=0.715399980545044\n",
      "Epoch 50, CIFAR-10 Batch 5:  Loss=0.00022076959430705756 ValidationAccuracy=0.7300000190734863\n"
     ]
    }
   ],
   "source": [
    "save_model_path = './image_classification'\n",
    "\n",
    "print('Training...')\n",
    "with tf.Session() as sess:\n",
    "    # Initializing the variables\n",
    "    sess.run(tf.global_variables_initializer())\n",
    "    \n",
    "    # Training cycle\n",
    "    for epoch in range(epochs):\n",
    "        # Loop over all batches\n",
    "        n_batches = 5\n",
    "        for batch_i in range(1, n_batches + 1):\n",
    "            for batch_features, batch_labels in helper.load_preprocess_training_batch(batch_i, batch_size):\n",
    "                train_neural_network(sess, optimizer, keep_probability, batch_features, batch_labels)\n",
    "            print('Epoch {:>2}, CIFAR-10 Batch {}:  '.format(epoch + 1, batch_i), end='')\n",
    "            print_stats(sess, batch_features, batch_labels, cost, accuracy)\n",
    "            \n",
    "    # Save Model\n",
    "    saver = tf.train.Saver()\n",
    "    save_path = saver.save(sess, save_model_path)"
   ]
  },
  {
   "cell_type": "markdown",
   "metadata": {},
   "source": [
    "# Checkpoint\n",
    "The model has been saved to disk.\n",
    "## Test Model\n",
    "Test your model against the test dataset.  This will be your final accuracy. You should have an accuracy greater than 50%. If you don't, keep tweaking the model architecture and parameters."
   ]
  },
  {
   "cell_type": "code",
   "execution_count": 22,
   "metadata": {},
   "outputs": [
    {
     "name": "stdout",
     "output_type": "stream",
     "text": [
      "INFO:tensorflow:Restoring parameters from ./image_classification\n",
      "Testing Accuracy: 0.7095530063291139\n",
      "\n"
     ]
    },
    {
     "data": {
      "image/png": "[encoded data removed]",
      "text/plain": [
       "<matplotlib.figure.Figure at 0x2a0a66ec208>"
      ]
     },
     "metadata": {
      "image/png": {
       "height": 319,
       "width": 355
      }
     },
     "output_type": "display_data"
    }
   ],
   "source": [
    "%matplotlib inline\n",
    "%config InlineBackend.figure_format = 'retina'\n",
    "\n",
    "import tensorflow as tf\n",
    "import pickle\n",
    "import helper\n",
    "import random\n",
    "\n",
    "# Set batch size if not already set\n",
    "try:\n",
    "    if batch_size:\n",
    "        pass\n",
    "except NameError:\n",
    "    batch_size = 64\n",
    "\n",
    "save_model_path = './image_classification'\n",
    "n_samples = 4\n",
    "top_n_predictions = 3\n",
    "\n",
    "def test_model():\n",
    "    \"\"\"\n",
    "    Test the saved model against the test dataset\n",
    "    \"\"\"\n",
    "\n",
    "    test_features, test_labels = pickle.load(open('preprocess_test.p', mode='rb'))\n",
    "    loaded_graph = tf.Graph()\n",
    "\n",
    "    with tf.Session(graph=loaded_graph) as sess:\n",
    "        # Load model\n",
    "        loader = tf.train.import_meta_graph(save_model_path + '.meta')\n",
    "        loader.restore(sess, save_model_path)\n",
    "\n",
    "        # Get Tensors from loaded model\n",
    "        loaded_x = loaded_graph.get_tensor_by_name('x:0')\n",
    "        loaded_y = loaded_graph.get_tensor_by_name('y:0')\n",
    "        loaded_keep_prob = loaded_graph.get_tensor_by_name('keep_prob:0')\n",
    "        loaded_logits = loaded_graph.get_tensor_by_name('logits:0')\n",
    "        loaded_acc = loaded_graph.get_tensor_by_name('accuracy:0')\n",
    "        \n",
    "        # Get accuracy in batches for memory limitations\n",
    "        test_batch_acc_total = 0\n",
    "        test_batch_count = 0\n",
    "        \n",
    "        for test_feature_batch, test_label_batch in helper.batch_features_labels(test_features, test_labels, batch_size):\n",
    "            test_batch_acc_total += sess.run(\n",
    "                loaded_acc,\n",
    "                feed_dict={loaded_x: test_feature_batch, loaded_y: test_label_batch, loaded_keep_prob: 1.0})\n",
    "            test_batch_count += 1\n",
    "\n",
    "        print('Testing Accuracy: {}\\n'.format(test_batch_acc_total/test_batch_count))\n",
    "\n",
    "        # Print Random Samples\n",
    "        random_test_features, random_test_labels = tuple(zip(*random.sample(list(zip(test_features, test_labels)), n_samples)))\n",
    "        random_test_predictions = sess.run(\n",
    "            tf.nn.top_k(tf.nn.softmax(loaded_logits), top_n_predictions),\n",
    "            feed_dict={loaded_x: random_test_features, loaded_y: random_test_labels, loaded_keep_prob: 1.0})\n",
    "        helper.display_image_predictions(random_test_features, random_test_labels, random_test_predictions)\n",
    "\n",
    "\n",
    "test_model()"
   ]
  },
  {
   "cell_type": "markdown",
   "metadata": {},
   "source": []
  }
 ],
 "metadata": {
  "kernelspec": {
   "display_name": "Python 3",
   "language": "python",
   "name": "python3"
  },
  "language_info": {
   "codemirror_mode": {
    "name": "ipython",
    "version": 3
   },
   "file_extension": ".py",
   "mimetype": "text/x-python",
   "name": "python",
   "nbconvert_exporter": "python",
   "pygments_lexer": "ipython3",
   "version": "3.6.2"
  }
 },
 "nbformat": 4,
 "nbformat_minor": 1
}
